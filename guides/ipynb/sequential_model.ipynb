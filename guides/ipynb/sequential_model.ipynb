{
  "cells": [
    {
      "cell_type": "markdown",
      "metadata": {
        "id": "-DtgVrzkJFGC"
      },
      "source": [
        "# The Sequential model\n",
        "\n",
        "**Author**: Leo"
      ]
    },
    {
      "cell_type": "markdown",
      "metadata": {
        "id": "KM4YiRkuJFGE"
      },
      "source": [
        "## Setup"
      ]
    },
    {
      "cell_type": "code",
      "execution_count": 2,
      "metadata": {
        "id": "_JveIQ__JFGF"
      },
      "outputs": [],
      "source": [
        "import keras\n",
        "from keras import layers\n",
        "import numpy as np"
      ]
    },
    {
      "cell_type": "markdown",
      "metadata": {
        "id": "u_-CBDgyJFGF"
      },
      "source": [
        "## When to use a Sequential model\n",
        "\n",
        "A `Sequential` model is appropriate for **a plain stack of layers**\n",
        "where each layer has **exactly one input tensor and one output tensor**.\n",
        "\n",
        "Schematically, the following `Sequential` model:"
      ]
    },
    {
      "cell_type": "code",
      "execution_count": 5,
      "metadata": {
        "id": "HsVYOcnDJFGF"
      },
      "outputs": [],
      "source": [
        "# A Sequential model with 3 layers\n",
        "model = keras.Sequential(\n",
        "    [\n",
        "        layers.Dense(2, activation=\"relu\", name=\"layer1\"),\n",
        "        layers.Dense(3, activation=\"relu\", name=\"layer2\"),\n",
        "        layers.Dense(4, name=\"layer3\"),\n",
        "    ]\n",
        ")"
      ]
    },
    {
      "cell_type": "code",
      "source": [],
      "metadata": {
        "id": "s-Zc8-XWKnRC",
        "outputId": "22e5baa3-8f4c-4d38-ceec-fe3ac3cbae94",
        "colab": {
          "base_uri": "https://localhost:8080/",
          "height": 176
        }
      },
      "execution_count": 13,
      "outputs": [
        {
          "output_type": "error",
          "ename": "TypeError",
          "evalue": "'tensorflow.python.framework.ops.EagerTensor' object is not callable",
          "traceback": [
            "\u001b[0;31m---------------------------------------------------------------------------\u001b[0m",
            "\u001b[0;31mTypeError\u001b[0m                                 Traceback (most recent call last)",
            "\u001b[0;32m<ipython-input-13-6c38f619de60>\u001b[0m in \u001b[0;36m<cell line: 2>\u001b[0;34m()\u001b[0m\n\u001b[1;32m      1\u001b[0m \u001b[0mx\u001b[0m \u001b[0;34m=\u001b[0m \u001b[0mnp\u001b[0m\u001b[0;34m.\u001b[0m\u001b[0mones\u001b[0m\u001b[0;34m(\u001b[0m\u001b[0;34m(\u001b[0m\u001b[0;36m256\u001b[0m\u001b[0;34m,\u001b[0m \u001b[0;36m256\u001b[0m\u001b[0;34m)\u001b[0m\u001b[0;34m)\u001b[0m\u001b[0;34m\u001b[0m\u001b[0;34m\u001b[0m\u001b[0m\n\u001b[0;32m----> 2\u001b[0;31m \u001b[0my\u001b[0m \u001b[0;34m=\u001b[0m \u001b[0mmodel\u001b[0m\u001b[0;34m(\u001b[0m\u001b[0mx\u001b[0m\u001b[0;34m)\u001b[0m\u001b[0;34m\u001b[0m\u001b[0;34m\u001b[0m\u001b[0m\n\u001b[0m\u001b[1;32m      3\u001b[0m \u001b[0mmodel\u001b[0m\u001b[0;34m.\u001b[0m\u001b[0msummary\u001b[0m\u001b[0;34m(\u001b[0m\u001b[0;34m)\u001b[0m\u001b[0;34m\u001b[0m\u001b[0;34m\u001b[0m\u001b[0m\n",
            "\u001b[0;31mTypeError\u001b[0m: 'tensorflow.python.framework.ops.EagerTensor' object is not callable"
          ]
        }
      ]
    },
    {
      "cell_type": "markdown",
      "metadata": {
        "id": "uySwBr0mJFGF"
      },
      "source": [
        "is equivalent to this function:"
      ]
    },
    {
      "cell_type": "code",
      "execution_count": null,
      "metadata": {
        "id": "Ydlhm5mrJFGG"
      },
      "outputs": [],
      "source": [
        "# Create 3 layers\n",
        "layer1 = layers.Dense(2, activation=\"relu\", name=\"layer1\")\n",
        "layer2 = layers.Dense(3, activation=\"relu\", name=\"layer2\")\n",
        "layer3 = layers.Dense(4, name=\"layer3\")\n",
        "\n",
        "# Call layers on a test input\n",
        "x = ops.ones((3, 3))\n",
        "y = layer3(layer2(layer1(x)))"
      ]
    },
    {
      "cell_type": "markdown",
      "metadata": {
        "id": "Txf1IRQQJFGG"
      },
      "source": [
        "A Sequential model is **not appropriate** when:\n",
        "\n",
        "- Your model has multiple inputs or multiple outputs\n",
        "- Any of your layers has multiple inputs or multiple outputs\n",
        "- You need to do layer sharing\n",
        "- You want non-linear topology (e.g. a residual connection, a multi-branch\n",
        "model)"
      ]
    },
    {
      "cell_type": "markdown",
      "metadata": {
        "id": "Pg3m8R6FJFGG"
      },
      "source": [
        "## Creating a Sequential model\n",
        "\n",
        "You can create a Sequential model by passing a list of layers to the Sequential\n",
        "constructor:"
      ]
    },
    {
      "cell_type": "code",
      "execution_count": 14,
      "metadata": {
        "id": "PKxJsDKaJFGG"
      },
      "outputs": [],
      "source": [
        "model = keras.Sequential(\n",
        "    [\n",
        "        layers.Dense(2, activation=\"relu\"),\n",
        "        layers.Dense(3, activation=\"relu\"),\n",
        "        layers.Dense(4),\n",
        "    ]\n",
        ")"
      ]
    },
    {
      "cell_type": "markdown",
      "metadata": {
        "id": "wtlnTARDJFGG"
      },
      "source": [
        "Its layers are accessible via the `layers` attribute:"
      ]
    },
    {
      "cell_type": "code",
      "execution_count": 15,
      "metadata": {
        "id": "BI0wksllJFGG",
        "outputId": "d3813956-62bb-4178-e1f1-4ee1fef5c691",
        "colab": {
          "base_uri": "https://localhost:8080/"
        }
      },
      "outputs": [
        {
          "output_type": "execute_result",
          "data": {
            "text/plain": [
              "[<keras.src.layers.core.dense.Dense at 0x7cd01dde07c0>,\n",
              " <keras.src.layers.core.dense.Dense at 0x7cd01dde26b0>,\n",
              " <keras.src.layers.core.dense.Dense at 0x7cd01dde0580>]"
            ]
          },
          "metadata": {},
          "execution_count": 15
        }
      ],
      "source": [
        "model.layers"
      ]
    },
    {
      "cell_type": "markdown",
      "metadata": {
        "id": "j9WLiqgkJFGH"
      },
      "source": [
        "You can also create a Sequential model incrementally via the `add()` method:"
      ]
    },
    {
      "cell_type": "code",
      "execution_count": 16,
      "metadata": {
        "id": "357FEIFqJFGH"
      },
      "outputs": [],
      "source": [
        "model = keras.Sequential()\n",
        "model.add(layers.Dense(2, activation=\"relu\"))\n",
        "model.add(layers.Dense(3, activation=\"relu\"))\n",
        "model.add(layers.Dense(4))"
      ]
    },
    {
      "cell_type": "markdown",
      "metadata": {
        "id": "_utjg8XQJFGH"
      },
      "source": [
        "Note that there's also a corresponding `pop()` method to remove layers:\n",
        "a Sequential model behaves very much like a list of layers."
      ]
    },
    {
      "cell_type": "code",
      "execution_count": null,
      "metadata": {
        "id": "O3QMRpREJFGH"
      },
      "outputs": [],
      "source": [
        "model.pop()\n",
        "print(len(model.layers))  # 2"
      ]
    },
    {
      "cell_type": "markdown",
      "metadata": {
        "id": "R3mxEdK6JFGH"
      },
      "source": [
        "Also note that the Sequential constructor accepts a `name` argument, just like\n",
        "any layer or model in Keras. This is useful to annotate TensorBoard graphs\n",
        "with semantically meaningful names."
      ]
    },
    {
      "cell_type": "code",
      "execution_count": 17,
      "metadata": {
        "id": "56tAhayYJFGH"
      },
      "outputs": [],
      "source": [
        "model = keras.Sequential(name=\"my_sequential\")\n",
        "model.add(layers.Dense(2, activation=\"relu\", name=\"layer1\"))\n",
        "model.add(layers.Dense(3, activation=\"relu\", name=\"layer2\"))\n",
        "model.add(layers.Dense(4, name=\"layer3\"))"
      ]
    },
    {
      "cell_type": "markdown",
      "metadata": {
        "id": "3kxdptOmJFGH"
      },
      "source": [
        "## Specifying the input shape in advance\n",
        "\n",
        "Generally, all layers in Keras need to know the shape of their inputs\n",
        "in order to be able to create their weights. So when you create a layer like\n",
        "this, initially, it has no weights:"
      ]
    },
    {
      "cell_type": "code",
      "execution_count": 18,
      "metadata": {
        "id": "W4iqLmtKJFGH",
        "outputId": "67c9caad-8c07-47ea-e9d7-551867d5a562",
        "colab": {
          "base_uri": "https://localhost:8080/"
        }
      },
      "outputs": [
        {
          "output_type": "execute_result",
          "data": {
            "text/plain": [
              "[]"
            ]
          },
          "metadata": {},
          "execution_count": 18
        }
      ],
      "source": [
        "layer = layers.Dense(3)\n",
        "layer.weights"
      ]
    },
    {
      "cell_type": "markdown",
      "metadata": {
        "id": "pnQpMpanJFGI"
      },
      "source": [
        "It creates its weights the first time it is called on an input, since the shape\n",
        "of the weights depends on the shape of the inputs:"
      ]
    },
    {
      "cell_type": "code",
      "execution_count": 24,
      "metadata": {
        "id": "WybIxxcrJFGI",
        "outputId": "2fa11adc-c3be-4158-9589-b68606a41541",
        "colab": {
          "base_uri": "https://localhost:8080/"
        }
      },
      "outputs": [
        {
          "output_type": "execute_result",
          "data": {
            "text/plain": [
              "[<tf.Variable 'dense_6/kernel:0' shape=(4, 3) dtype=float32, numpy=\n",
              " array([[-0.32328779, -0.37275928,  0.7087277 ],\n",
              "        [ 0.08355331,  0.06401604,  0.9174104 ],\n",
              "        [ 0.7609999 , -0.1788513 , -0.12418157],\n",
              "        [-0.19486988,  0.27428508,  0.20985103]], dtype=float32)>,\n",
              " <tf.Variable 'dense_6/bias:0' shape=(3,) dtype=float32, numpy=array([0., 0., 0.], dtype=float32)>]"
            ]
          },
          "metadata": {},
          "execution_count": 24
        }
      ],
      "source": [
        "x = np.ones((1, 4))\n",
        "y = layer(x)\n",
        "layer.weights"
      ]
    },
    {
      "cell_type": "markdown",
      "metadata": {
        "id": "Wb5CWi9bJFGI"
      },
      "source": [
        "Naturally, this also applies to Sequential models. When you instantiate a\n",
        "Sequential model without an input shape, it isn't \"built\": it has no weights\n",
        "(and calling\n",
        "`model.weights` results in an error stating just this). The weights are created\n",
        "when the model first sees some input data:"
      ]
    },
    {
      "cell_type": "code",
      "execution_count": 27,
      "metadata": {
        "id": "KRATPfdYJFGI",
        "outputId": "18b302eb-f05a-4ae5-9fa2-11e5d0a1d631",
        "colab": {
          "base_uri": "https://localhost:8080/"
        }
      },
      "outputs": [
        {
          "output_type": "stream",
          "name": "stdout",
          "text": [
            "Number of weights after calling the model: 6\n"
          ]
        }
      ],
      "source": [
        "model = keras.Sequential(\n",
        "    [\n",
        "        layers.Dense(2, activation=\"relu\", name=\"layer1\"),\n",
        "        layers.Dense(3, activation=\"relu\", name=\"layer2\"),\n",
        "        layers.Dense(4),\n",
        "    ]\n",
        ")\n",
        "\n",
        "x = np.ones((1, 4))\n",
        "y = model(x)\n",
        "print(\"Number of weights after calling the model:\", len(model.weights))  # 6"
      ]
    },
    {
      "cell_type": "markdown",
      "metadata": {
        "id": "ZDYbk8y8JFGI"
      },
      "source": [
        "Once a model is \"built\", you can call its `summary()` method to display its\n",
        "contents:"
      ]
    },
    {
      "cell_type": "code",
      "execution_count": 29,
      "metadata": {
        "id": "Sa5GyU27JFGI",
        "outputId": "24f8d3c6-7f95-4bb5-ee00-00f315f6f5f0",
        "colab": {
          "base_uri": "https://localhost:8080/"
        }
      },
      "outputs": [
        {
          "output_type": "stream",
          "name": "stdout",
          "text": [
            "Model: \"sequential_5\"\n",
            "_________________________________________________________________\n",
            " Layer (type)                Output Shape              Param #   \n",
            "=================================================================\n",
            " layer1 (Dense)              (1, 2)                    10        \n",
            "                                                                 \n",
            " layer2 (Dense)              (1, 3)                    9         \n",
            "                                                                 \n",
            " dense_12 (Dense)            (1, 4)                    16        \n",
            "                                                                 \n",
            "=================================================================\n",
            "Total params: 35 (140.00 Byte)\n",
            "Trainable params: 35 (140.00 Byte)\n",
            "Non-trainable params: 0 (0.00 Byte)\n",
            "_________________________________________________________________\n"
          ]
        }
      ],
      "source": [
        "model.summary()"
      ]
    },
    {
      "cell_type": "markdown",
      "metadata": {
        "id": "4Df0m51mJFGI"
      },
      "source": [
        "However, it can be very useful when building a Sequential model incrementally\n",
        "to be able to display the summary of the model so far, including the current\n",
        "output shape. In this case, you should start your model by passing an `Input`\n",
        "object to your model, so that it knows its input shape from the start:"
      ]
    },
    {
      "cell_type": "code",
      "execution_count": 33,
      "metadata": {
        "id": "fEhnehnJJFGI",
        "outputId": "c4d20922-b0d4-4dff-ed6c-17efc92b5bf1",
        "colab": {
          "base_uri": "https://localhost:8080/"
        }
      },
      "outputs": [
        {
          "output_type": "stream",
          "name": "stdout",
          "text": [
            "Model: \"sequential_9\"\n",
            "_________________________________________________________________\n",
            " Layer (type)                Output Shape              Param #   \n",
            "=================================================================\n",
            " dense_15 (Dense)            (None, 2)                 10        \n",
            "                                                                 \n",
            "=================================================================\n",
            "Total params: 10 (40.00 Byte)\n",
            "Trainable params: 10 (40.00 Byte)\n",
            "Non-trainable params: 0 (0.00 Byte)\n",
            "_________________________________________________________________\n"
          ]
        }
      ],
      "source": [
        "model = keras.Sequential()\n",
        "model.add(keras.Input(shape=(4,)))\n",
        "model.add(layers.Dense(2, activation=\"relu\"))\n",
        "\n",
        "model.summary()"
      ]
    },
    {
      "cell_type": "markdown",
      "metadata": {
        "id": "AnqiLUpeJFGI"
      },
      "source": [
        "Note that the `Input` object is not displayed as part of `model.layers`, since\n",
        "it isn't a layer:"
      ]
    },
    {
      "cell_type": "code",
      "execution_count": 34,
      "metadata": {
        "id": "FCvM2amuJFGI",
        "outputId": "77b57d43-864d-4add-decb-ade066ab12de",
        "colab": {
          "base_uri": "https://localhost:8080/"
        }
      },
      "outputs": [
        {
          "output_type": "execute_result",
          "data": {
            "text/plain": [
              "[<keras.src.layers.core.dense.Dense at 0x7cd01c100b20>]"
            ]
          },
          "metadata": {},
          "execution_count": 34
        }
      ],
      "source": [
        "model.layers"
      ]
    },
    {
      "cell_type": "markdown",
      "metadata": {
        "id": "FDcjWtyxJFGJ"
      },
      "source": [
        "Models built with a predefined input shape like this always have weights (even\n",
        "before seeing any data) and always have a defined output shape.\n",
        "\n",
        "In general, it's a recommended best practice to always specify the input shape\n",
        "of a Sequential model in advance if you know what it is."
      ]
    },
    {
      "cell_type": "markdown",
      "metadata": {
        "id": "i0yS_I66JFGJ"
      },
      "source": [
        "## A common debugging workflow: `add()` + `summary()`\n",
        "\n",
        "When building a new Sequential architecture, it's useful to incrementally stack\n",
        "layers with `add()` and frequently print model summaries. For instance, this\n",
        "enables you to monitor how a stack of `Conv2D` and `MaxPooling2D` layers is\n",
        "downsampling image feature maps:"
      ]
    },
    {
      "cell_type": "code",
      "execution_count": 41,
      "metadata": {
        "id": "QkTNXIT7JFGJ",
        "outputId": "3e2bcd2c-7d80-4f0b-f803-96cd16c28371",
        "colab": {
          "base_uri": "https://localhost:8080/"
        }
      },
      "outputs": [
        {
          "output_type": "stream",
          "name": "stdout",
          "text": [
            "Model: \"sequential_16\"\n",
            "_________________________________________________________________\n",
            " Layer (type)                Output Shape              Param #   \n",
            "=================================================================\n",
            " conv2d_24 (Conv2D)          (None, 126, 126, 32)      2432      \n",
            "                                                                 \n",
            " conv2d_25 (Conv2D)          (None, 124, 124, 32)      9248      \n",
            "                                                                 \n",
            " max_pooling2d_12 (MaxPooli  (None, 41, 41, 32)        0         \n",
            " ng2D)                                                           \n",
            "                                                                 \n",
            "=================================================================\n",
            "Total params: 11680 (45.62 KB)\n",
            "Trainable params: 11680 (45.62 KB)\n",
            "Non-trainable params: 0 (0.00 Byte)\n",
            "_________________________________________________________________\n",
            "Model: \"sequential_16\"\n",
            "_________________________________________________________________\n",
            " Layer (type)                Output Shape              Param #   \n",
            "=================================================================\n",
            " conv2d_24 (Conv2D)          (None, 126, 126, 32)      2432      \n",
            "                                                                 \n",
            " conv2d_25 (Conv2D)          (None, 124, 124, 32)      9248      \n",
            "                                                                 \n",
            " max_pooling2d_12 (MaxPooli  (None, 41, 41, 32)        0         \n",
            " ng2D)                                                           \n",
            "                                                                 \n",
            " conv2d_26 (Conv2D)          (None, 39, 39, 32)        9248      \n",
            "                                                                 \n",
            " conv2d_27 (Conv2D)          (None, 37, 37, 32)        9248      \n",
            "                                                                 \n",
            " max_pooling2d_13 (MaxPooli  (None, 12, 12, 32)        0         \n",
            " ng2D)                                                           \n",
            "                                                                 \n",
            " conv2d_28 (Conv2D)          (None, 10, 10, 32)        9248      \n",
            "                                                                 \n",
            " conv2d_29 (Conv2D)          (None, 8, 8, 32)          9248      \n",
            "                                                                 \n",
            " max_pooling2d_14 (MaxPooli  (None, 4, 4, 32)          0         \n",
            " ng2D)                                                           \n",
            "                                                                 \n",
            "=================================================================\n",
            "Total params: 48672 (190.12 KB)\n",
            "Trainable params: 48672 (190.12 KB)\n",
            "Non-trainable params: 0 (0.00 Byte)\n",
            "_________________________________________________________________\n"
          ]
        }
      ],
      "source": [
        "model = keras.Sequential()\n",
        "model.add(keras.Input(shape=(256, 256, 3)))\n",
        "model.add(layers.Conv2D(32, 5, strides=2, activation=\"relu\"))\n",
        "model.add(layers.Conv2D(32, 3, activation=\"relu\"))\n",
        "model.add(layers.MaxPooling2D(3))\n",
        "\n",
        "model.summary()\n",
        "\n",
        "model.add(layers.Conv2D(32, 3, activation=\"relu\"))\n",
        "model.add(layers.Conv2D(32, 3, activation=\"relu\"))\n",
        "model.add(layers.MaxPooling2D(3))\n",
        "\n",
        "model.add(layers.Conv2D(32, 3, activation=\"relu\"))\n",
        "model.add(layers.Conv2D(32, 3, activation=\"relu\"))\n",
        "model.add(layers.MaxPooling2D(2))\n",
        "\n",
        "model.summary()\n",
        "\n",
        "# Now that we have 4x4 feature maps, time to apply global max pooling.\n",
        "model.add(layers.GlobalMaxPooling2D())\n",
        "\n",
        "# # Finally, we add a classification layer.\n",
        "\n",
        "model.add(layers.Dense(10))"
      ]
    },
    {
      "cell_type": "markdown",
      "metadata": {
        "id": "y1ITwI30JFGJ"
      },
      "source": [
        "Very practical, right?\n"
      ]
    },
    {
      "cell_type": "markdown",
      "metadata": {
        "id": "vQqnRFwrJFGJ"
      },
      "source": [
        "## What to do once you have a model\n",
        "\n",
        "Once your model architecture is ready, you will want to:\n",
        "\n",
        "- Train your model, evaluate it, and run inference. See our\n",
        "[guide to training & evaluation with the built-in loops](\n",
        "    /guides/training_with_built_in_methods/)\n",
        "- Save your model to disk and restore it. See our\n",
        "[guide to serialization & saving](/guides/serialization_and_saving/)."
      ]
    },
    {
      "cell_type": "markdown",
      "metadata": {
        "id": "XwvgYr3GJFGJ"
      },
      "source": [
        "## Feature extraction with a Sequential model\n",
        "\n",
        "Once a Sequential model has been built, it behaves like a\n",
        "[Functional API model](/guides/functional_api/).\n",
        "This means that every layer has an `input`\n",
        "and `output` attribute. These attributes can be used to do neat things, like\n",
        "quickly creating a model that extracts the outputs of all intermediate layers in a\n",
        "Sequential model:"
      ]
    },
    {
      "cell_type": "code",
      "execution_count": null,
      "metadata": {
        "id": "tN_PPXtYJFGJ"
      },
      "outputs": [],
      "source": [
        "initial_model = keras.Sequential(\n",
        "    [\n",
        "        keras.Input(shape=(250, 250, 3)),\n",
        "        layers.Conv2D(32, 5, strides=2, activation=\"relu\"),\n",
        "        layers.Conv2D(32, 3, activation=\"relu\"),\n",
        "        layers.Conv2D(32, 3, activation=\"relu\"),\n",
        "    ]\n",
        ")\n",
        "feature_extractor = keras.Model(\n",
        "    inputs=initial_model.inputs,\n",
        "    outputs=[layer.output for layer in initial_model.layers],\n",
        ")\n",
        "\n",
        "# Call feature extractor on test input.\n",
        "x = ops.ones((1, 250, 250, 3))\n",
        "features = feature_extractor(x)"
      ]
    },
    {
      "cell_type": "markdown",
      "metadata": {
        "id": "gHKoow77JFGJ"
      },
      "source": [
        "Here's a similar example that only extract features from one layer:"
      ]
    },
    {
      "cell_type": "code",
      "execution_count": null,
      "metadata": {
        "id": "93m0FLEqJFGJ"
      },
      "outputs": [],
      "source": [
        "initial_model = keras.Sequential(\n",
        "    [\n",
        "        keras.Input(shape=(250, 250, 3)),\n",
        "        layers.Conv2D(32, 5, strides=2, activation=\"relu\"),\n",
        "        layers.Conv2D(32, 3, activation=\"relu\", name=\"my_intermediate_layer\"),\n",
        "        layers.Conv2D(32, 3, activation=\"relu\"),\n",
        "    ]\n",
        ")\n",
        "feature_extractor = keras.Model(\n",
        "    inputs=initial_model.inputs,\n",
        "    outputs=initial_model.get_layer(name=\"my_intermediate_layer\").output,\n",
        ")\n",
        "# Call feature extractor on test input.\n",
        "x = ops.ones((1, 250, 250, 3))\n",
        "features = feature_extractor(x)"
      ]
    },
    {
      "cell_type": "markdown",
      "metadata": {
        "id": "iyLlVzSZJFGN"
      },
      "source": [
        "## Transfer learning with a Sequential model\n",
        "\n",
        "Transfer learning consists of freezing the bottom layers in a model and only training\n",
        "the top layers. If you aren't familiar with it, make sure to read our [guide\n",
        "to transfer learning](/guides/transfer_learning/).\n",
        "\n",
        "Here are two common transfer learning blueprint involving Sequential models.\n",
        "\n",
        "First, let's say that you have a Sequential model, and you want to freeze all\n",
        "layers except the last one. In this case, you would simply iterate over\n",
        "`model.layers` and set `layer.trainable = False` on each layer, except the\n",
        "last one. Like this:\n",
        "\n",
        "```python\n",
        "model = keras.Sequential([\n",
        "    keras.Input(shape=(784)),\n",
        "    layers.Dense(32, activation='relu'),\n",
        "    layers.Dense(32, activation='relu'),\n",
        "    layers.Dense(32, activation='relu'),\n",
        "    layers.Dense(10),\n",
        "])\n",
        "\n",
        "# Presumably you would want to first load pre-trained weights.\n",
        "model.load_weights(...)\n",
        "\n",
        "# Freeze all layers except the last one.\n",
        "for layer in model.layers[:-1]:\n",
        "  layer.trainable = False\n",
        "\n",
        "# Recompile and train (this will only update the weights of the last layer).\n",
        "model.compile(...)\n",
        "model.fit(...)\n",
        "```\n",
        "\n",
        "Another common blueprint is to use a Sequential model to stack a pre-trained\n",
        "model and some freshly initialized classification layers. Like this:\n",
        "\n",
        "```python\n",
        "# Load a convolutional base with pre-trained weights\n",
        "base_model = keras.applications.Xception(\n",
        "    weights='imagenet',\n",
        "    include_top=False,\n",
        "    pooling='avg')\n",
        "\n",
        "# Freeze the base model\n",
        "base_model.trainable = False\n",
        "\n",
        "# Use a Sequential model to add a trainable classifier on top\n",
        "model = keras.Sequential([\n",
        "    base_model,\n",
        "    layers.Dense(1000),\n",
        "])\n",
        "\n",
        "# Compile & train\n",
        "model.compile(...)\n",
        "model.fit(...)\n",
        "```\n",
        "\n",
        "If you do transfer learning, you will probably find yourself frequently using\n",
        "these two patterns."
      ]
    },
    {
      "cell_type": "markdown",
      "metadata": {
        "id": "RD6X9Z7IJFGN"
      },
      "source": [
        "That's about all you need to know about Sequential models!\n",
        "\n",
        "To find out more about building models in Keras, see:\n",
        "\n",
        "- [Guide to the Functional API](/guides/functional_api/)\n",
        "- [Guide to making new Layers & Models via subclassing](/guides/making_new_layers_and_models_via_subclassing/)"
      ]
    }
  ],
  "metadata": {
    "accelerator": "GPU",
    "colab": {
      "name": "sequential_model",
      "provenance": [],
      "toc_visible": true
    },
    "kernelspec": {
      "display_name": "Python 3",
      "language": "python",
      "name": "python3"
    },
    "language_info": {
      "codemirror_mode": {
        "name": "ipython",
        "version": 3
      },
      "file_extension": ".py",
      "mimetype": "text/x-python",
      "name": "python",
      "nbconvert_exporter": "python",
      "pygments_lexer": "ipython3",
      "version": "3.7.0"
    }
  },
  "nbformat": 4,
  "nbformat_minor": 0
}