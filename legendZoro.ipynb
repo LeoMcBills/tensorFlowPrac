{
  "nbformat": 4,
  "nbformat_minor": 0,
  "metadata": {
    "colab": {
      "provenance": [],
      "authorship_tag": "ABX9TyM8JZKrZF/hg7+dmViN7asP",
      "include_colab_link": true
    },
    "kernelspec": {
      "name": "python3",
      "display_name": "Python 3"
    },
    "language_info": {
      "name": "python"
    }
  },
  "cells": [
    {
      "cell_type": "markdown",
      "metadata": {
        "id": "view-in-github",
        "colab_type": "text"
      },
      "source": [
        "<a href=\"https://colab.research.google.com/github/LeoMcBills/tensorFlowPrac/blob/main/legendZoro.ipynb\" target=\"_parent\"><img src=\"https://colab.research.google.com/assets/colab-badge.svg\" alt=\"Open In Colab\"/></a>"
      ]
    },
    {
      "cell_type": "markdown",
      "source": [
        "# Import necessary pytorch modules"
      ],
      "metadata": {
        "id": "PWuS2tuyN7kj"
      }
    },
    {
      "cell_type": "code",
      "source": [
        "import torch\n",
        "from torch import nn"
      ],
      "metadata": {
        "id": "OcAhA990NuZC"
      },
      "execution_count": 94,
      "outputs": []
    },
    {
      "cell_type": "markdown",
      "source": [
        "# Download text-tinyShakespeare"
      ],
      "metadata": {
        "id": "vEESCD-KOBtI"
      }
    },
    {
      "cell_type": "code",
      "execution_count": 95,
      "metadata": {
        "colab": {
          "base_uri": "https://localhost:8080/"
        },
        "id": "y1DNFeiy2lGR",
        "outputId": "688aaa81-0192-4cd8-e73c-ccd3899c2c5e"
      },
      "outputs": [
        {
          "output_type": "stream",
          "name": "stdout",
          "text": [
            "--2024-03-21 14:34:44--  https://raw.githubusercontent.com/karpathy/char-rnn/master/data/tinyshakespeare/input.txt\n",
            "Resolving raw.githubusercontent.com (raw.githubusercontent.com)... 185.199.108.133, 185.199.109.133, 185.199.110.133, ...\n",
            "Connecting to raw.githubusercontent.com (raw.githubusercontent.com)|185.199.108.133|:443... connected.\n",
            "HTTP request sent, awaiting response... 200 OK\n",
            "Length: 1115394 (1.1M) [text/plain]\n",
            "Saving to: ‘input.txt.1’\n",
            "\n",
            "input.txt.1         100%[===================>]   1.06M  --.-KB/s    in 0.05s   \n",
            "\n",
            "2024-03-21 14:34:45 (20.0 MB/s) - ‘input.txt.1’ saved [1115394/1115394]\n",
            "\n"
          ]
        }
      ],
      "source": [
        "!wget https://raw.githubusercontent.com/karpathy/char-rnn/master/data/tinyshakespeare/input.txt"
      ]
    },
    {
      "cell_type": "code",
      "source": [
        "!ls"
      ],
      "metadata": {
        "colab": {
          "base_uri": "https://localhost:8080/"
        },
        "id": "Ahbibel59fcI",
        "outputId": "bfa62d37-8b72-4092-9a57-f4c5b6802738"
      },
      "execution_count": 96,
      "outputs": [
        {
          "output_type": "stream",
          "name": "stdout",
          "text": [
            "input.txt  input.txt.1\tsample_data\n"
          ]
        }
      ]
    },
    {
      "cell_type": "code",
      "source": [
        "!rm input.txt.1"
      ],
      "metadata": {
        "id": "7AmsuAroBO8Z"
      },
      "execution_count": 97,
      "outputs": []
    },
    {
      "cell_type": "code",
      "source": [
        "with open('input.txt', 'r', encoding='utf-8') as text:\n",
        "  text = text.read()"
      ],
      "metadata": {
        "id": "ZzwW_oo89gmt"
      },
      "execution_count": 98,
      "outputs": []
    },
    {
      "cell_type": "code",
      "source": [
        "print(len(text))\n",
        "print(text[:1000])"
      ],
      "metadata": {
        "colab": {
          "base_uri": "https://localhost:8080/"
        },
        "id": "920mxbLc94E9",
        "outputId": "5debad9d-8c61-4a69-f9a0-85637c36f712"
      },
      "execution_count": 99,
      "outputs": [
        {
          "output_type": "stream",
          "name": "stdout",
          "text": [
            "1115394\n",
            "First Citizen:\n",
            "Before we proceed any further, hear me speak.\n",
            "\n",
            "All:\n",
            "Speak, speak.\n",
            "\n",
            "First Citizen:\n",
            "You are all resolved rather to die than to famish?\n",
            "\n",
            "All:\n",
            "Resolved. resolved.\n",
            "\n",
            "First Citizen:\n",
            "First, you know Caius Marcius is chief enemy to the people.\n",
            "\n",
            "All:\n",
            "We know't, we know't.\n",
            "\n",
            "First Citizen:\n",
            "Let us kill him, and we'll have corn at our own price.\n",
            "Is't a verdict?\n",
            "\n",
            "All:\n",
            "No more talking on't; let it be done: away, away!\n",
            "\n",
            "Second Citizen:\n",
            "One word, good citizens.\n",
            "\n",
            "First Citizen:\n",
            "We are accounted poor citizens, the patricians good.\n",
            "What authority surfeits on would relieve us: if they\n",
            "would yield us but the superfluity, while it were\n",
            "wholesome, we might guess they relieved us humanely;\n",
            "but they think we are too dear: the leanness that\n",
            "afflicts us, the object of our misery, is as an\n",
            "inventory to particularise their abundance; our\n",
            "sufferance is a gain to them Let us revenge this with\n",
            "our pikes, ere we become rakes: for the gods know I\n",
            "speak this in hunger for bread, not in thirst for revenge.\n",
            "\n",
            "\n"
          ]
        }
      ]
    },
    {
      "cell_type": "code",
      "source": [
        "chars = sorted(list(set(text)))\n",
        "print(len(chars))\n",
        "print(\"\".join(chars))"
      ],
      "metadata": {
        "colab": {
          "base_uri": "https://localhost:8080/"
        },
        "id": "I-YWnf7ZCa70",
        "outputId": "fc7b934d-a497-4885-af36-49f968e6bdad"
      },
      "execution_count": 100,
      "outputs": [
        {
          "output_type": "stream",
          "name": "stdout",
          "text": [
            "65\n",
            "\n",
            " !$&',-.3:;?ABCDEFGHIJKLMNOPQRSTUVWXYZabcdefghijklmnopqrstuvwxyz\n"
          ]
        }
      ]
    },
    {
      "cell_type": "code",
      "source": [
        "stoi = { ch:i for i, ch in enumerate(chars) }\n",
        "itos = { i:ch for i, ch in enumerate(chars) }\n",
        "vocab_size = len(chars)"
      ],
      "metadata": {
        "id": "DESALlbD93Qc"
      },
      "execution_count": 101,
      "outputs": []
    },
    {
      "cell_type": "code",
      "source": [
        "print(vocab_size)\n",
        "print(stoi)\n",
        "print(itos)"
      ],
      "metadata": {
        "colab": {
          "base_uri": "https://localhost:8080/"
        },
        "id": "nvnY2YRfDJWA",
        "outputId": "eaefdad9-7b9d-4822-a433-f3392fc48e3d"
      },
      "execution_count": 102,
      "outputs": [
        {
          "output_type": "stream",
          "name": "stdout",
          "text": [
            "65\n",
            "{'\\n': 0, ' ': 1, '!': 2, '$': 3, '&': 4, \"'\": 5, ',': 6, '-': 7, '.': 8, '3': 9, ':': 10, ';': 11, '?': 12, 'A': 13, 'B': 14, 'C': 15, 'D': 16, 'E': 17, 'F': 18, 'G': 19, 'H': 20, 'I': 21, 'J': 22, 'K': 23, 'L': 24, 'M': 25, 'N': 26, 'O': 27, 'P': 28, 'Q': 29, 'R': 30, 'S': 31, 'T': 32, 'U': 33, 'V': 34, 'W': 35, 'X': 36, 'Y': 37, 'Z': 38, 'a': 39, 'b': 40, 'c': 41, 'd': 42, 'e': 43, 'f': 44, 'g': 45, 'h': 46, 'i': 47, 'j': 48, 'k': 49, 'l': 50, 'm': 51, 'n': 52, 'o': 53, 'p': 54, 'q': 55, 'r': 56, 's': 57, 't': 58, 'u': 59, 'v': 60, 'w': 61, 'x': 62, 'y': 63, 'z': 64}\n",
            "{0: '\\n', 1: ' ', 2: '!', 3: '$', 4: '&', 5: \"'\", 6: ',', 7: '-', 8: '.', 9: '3', 10: ':', 11: ';', 12: '?', 13: 'A', 14: 'B', 15: 'C', 16: 'D', 17: 'E', 18: 'F', 19: 'G', 20: 'H', 21: 'I', 22: 'J', 23: 'K', 24: 'L', 25: 'M', 26: 'N', 27: 'O', 28: 'P', 29: 'Q', 30: 'R', 31: 'S', 32: 'T', 33: 'U', 34: 'V', 35: 'W', 36: 'X', 37: 'Y', 38: 'Z', 39: 'a', 40: 'b', 41: 'c', 42: 'd', 43: 'e', 44: 'f', 45: 'g', 46: 'h', 47: 'i', 48: 'j', 49: 'k', 50: 'l', 51: 'm', 52: 'n', 53: 'o', 54: 'p', 55: 'q', 56: 'r', 57: 's', 58: 't', 59: 'u', 60: 'v', 61: 'w', 62: 'x', 63: 'y', 64: 'z'}\n"
          ]
        }
      ]
    },
    {
      "cell_type": "code",
      "source": [
        "# method 1\n",
        "def tokenize(word):\n",
        "  newrd = []\n",
        "  for piece in word:\n",
        "    newrd.append(stoi[piece])\n",
        "  return newrd"
      ],
      "metadata": {
        "id": "a2HllXP8CCc9"
      },
      "execution_count": 103,
      "outputs": []
    },
    {
      "cell_type": "code",
      "source": [
        "# method 2\n",
        "encode = lambda wrd: [stoi[char] for char in wrd]"
      ],
      "metadata": {
        "id": "vvtEF-KQF3zw"
      },
      "execution_count": 104,
      "outputs": []
    },
    {
      "cell_type": "code",
      "source": [
        "encoded = tokenize(\"Leo is the greatest programmer living\")\n",
        "encoded2 = encode(\"Leo is the greatest programmer living\")"
      ],
      "metadata": {
        "id": "jTQ3wSJfElm7"
      },
      "execution_count": 105,
      "outputs": []
    },
    {
      "cell_type": "code",
      "source": [
        "print(encoded)\n",
        "print(encoded2)"
      ],
      "metadata": {
        "colab": {
          "base_uri": "https://localhost:8080/"
        },
        "id": "70gFmxhUEuKd",
        "outputId": "85e8148f-16e5-4b4f-cbe0-8b6432057095"
      },
      "execution_count": 106,
      "outputs": [
        {
          "output_type": "stream",
          "name": "stdout",
          "text": [
            "[24, 43, 53, 1, 47, 57, 1, 58, 46, 43, 1, 45, 56, 43, 39, 58, 43, 57, 58, 1, 54, 56, 53, 45, 56, 39, 51, 51, 43, 56, 1, 50, 47, 60, 47, 52, 45]\n",
            "[24, 43, 53, 1, 47, 57, 1, 58, 46, 43, 1, 45, 56, 43, 39, 58, 43, 57, 58, 1, 54, 56, 53, 45, 56, 39, 51, 51, 43, 56, 1, 50, 47, 60, 47, 52, 45]\n"
          ]
        }
      ]
    },
    {
      "cell_type": "code",
      "source": [
        "# method 1\n",
        "def wordFromToken(tokens):\n",
        "  sentence = \"\"\n",
        "  for token in tokens:\n",
        "    sentence += itos[token]\n",
        "  return sentence"
      ],
      "metadata": {
        "id": "UG-ymzcGE-bu"
      },
      "execution_count": 107,
      "outputs": []
    },
    {
      "cell_type": "code",
      "source": [
        "print(wordFromToken(encoded))"
      ],
      "metadata": {
        "colab": {
          "base_uri": "https://localhost:8080/"
        },
        "id": "9QZXfTeJHVXv",
        "outputId": "21b6f170-be3f-495b-e330-54f510fdc31d"
      },
      "execution_count": 108,
      "outputs": [
        {
          "output_type": "stream",
          "name": "stdout",
          "text": [
            "Leo is the greatest programmer living\n"
          ]
        }
      ]
    },
    {
      "cell_type": "code",
      "source": [
        "# method 2\n",
        "decode = lambda wrd: [itos[num] for num in wrd]"
      ],
      "metadata": {
        "id": "Dq6xsBy7HcWu"
      },
      "execution_count": 109,
      "outputs": []
    },
    {
      "cell_type": "code",
      "source": [
        "print(\"\".join(decode(encoded)))"
      ],
      "metadata": {
        "colab": {
          "base_uri": "https://localhost:8080/"
        },
        "id": "bPOW_9IcIYGr",
        "outputId": "4a0ed913-c4d4-4494-8532-1f17a471138a"
      },
      "execution_count": 110,
      "outputs": [
        {
          "output_type": "stream",
          "name": "stdout",
          "text": [
            "Leo is the greatest programmer living\n"
          ]
        }
      ]
    },
    {
      "cell_type": "markdown",
      "source": [
        "# Get the training and test data"
      ],
      "metadata": {
        "id": "2_Pq0DNQImqK"
      }
    },
    {
      "cell_type": "code",
      "source": [
        "train_set = tokenize(text[:int(len(text)*0.9)])\n",
        "test_set = tokenize(text[int(len(text)*0.9):])"
      ],
      "metadata": {
        "id": "m9RX_jrGIbos"
      },
      "execution_count": 131,
      "outputs": []
    },
    {
      "cell_type": "code",
      "source": [
        "print(train_set[:1000])\n",
        "print(test_set[:1000])"
      ],
      "metadata": {
        "colab": {
          "base_uri": "https://localhost:8080/"
        },
        "id": "87uPwgb4La5O",
        "outputId": "1eb016b8-7e90-4a88-c21b-aa144c79d73f"
      },
      "execution_count": 132,
      "outputs": [
        {
          "output_type": "stream",
          "name": "stdout",
          "text": [
            "[18, 47, 56, 57, 58, 1, 15, 47, 58, 47, 64, 43, 52, 10, 0, 14, 43, 44, 53, 56, 43, 1, 61, 43, 1, 54, 56, 53, 41, 43, 43, 42, 1, 39, 52, 63, 1, 44, 59, 56, 58, 46, 43, 56, 6, 1, 46, 43, 39, 56, 1, 51, 43, 1, 57, 54, 43, 39, 49, 8, 0, 0, 13, 50, 50, 10, 0, 31, 54, 43, 39, 49, 6, 1, 57, 54, 43, 39, 49, 8, 0, 0, 18, 47, 56, 57, 58, 1, 15, 47, 58, 47, 64, 43, 52, 10, 0, 37, 53, 59, 1, 39, 56, 43, 1, 39, 50, 50, 1, 56, 43, 57, 53, 50, 60, 43, 42, 1, 56, 39, 58, 46, 43, 56, 1, 58, 53, 1, 42, 47, 43, 1, 58, 46, 39, 52, 1, 58, 53, 1, 44, 39, 51, 47, 57, 46, 12, 0, 0, 13, 50, 50, 10, 0, 30, 43, 57, 53, 50, 60, 43, 42, 8, 1, 56, 43, 57, 53, 50, 60, 43, 42, 8, 0, 0, 18, 47, 56, 57, 58, 1, 15, 47, 58, 47, 64, 43, 52, 10, 0, 18, 47, 56, 57, 58, 6, 1, 63, 53, 59, 1, 49, 52, 53, 61, 1, 15, 39, 47, 59, 57, 1, 25, 39, 56, 41, 47, 59, 57, 1, 47, 57, 1, 41, 46, 47, 43, 44, 1, 43, 52, 43, 51, 63, 1, 58, 53, 1, 58, 46, 43, 1, 54, 43, 53, 54, 50, 43, 8, 0, 0, 13, 50, 50, 10, 0, 35, 43, 1, 49, 52, 53, 61, 5, 58, 6, 1, 61, 43, 1, 49, 52, 53, 61, 5, 58, 8, 0, 0, 18, 47, 56, 57, 58, 1, 15, 47, 58, 47, 64, 43, 52, 10, 0, 24, 43, 58, 1, 59, 57, 1, 49, 47, 50, 50, 1, 46, 47, 51, 6, 1, 39, 52, 42, 1, 61, 43, 5, 50, 50, 1, 46, 39, 60, 43, 1, 41, 53, 56, 52, 1, 39, 58, 1, 53, 59, 56, 1, 53, 61, 52, 1, 54, 56, 47, 41, 43, 8, 0, 21, 57, 5, 58, 1, 39, 1, 60, 43, 56, 42, 47, 41, 58, 12, 0, 0, 13, 50, 50, 10, 0, 26, 53, 1, 51, 53, 56, 43, 1, 58, 39, 50, 49, 47, 52, 45, 1, 53, 52, 5, 58, 11, 1, 50, 43, 58, 1, 47, 58, 1, 40, 43, 1, 42, 53, 52, 43, 10, 1, 39, 61, 39, 63, 6, 1, 39, 61, 39, 63, 2, 0, 0, 31, 43, 41, 53, 52, 42, 1, 15, 47, 58, 47, 64, 43, 52, 10, 0, 27, 52, 43, 1, 61, 53, 56, 42, 6, 1, 45, 53, 53, 42, 1, 41, 47, 58, 47, 64, 43, 52, 57, 8, 0, 0, 18, 47, 56, 57, 58, 1, 15, 47, 58, 47, 64, 43, 52, 10, 0, 35, 43, 1, 39, 56, 43, 1, 39, 41, 41, 53, 59, 52, 58, 43, 42, 1, 54, 53, 53, 56, 1, 41, 47, 58, 47, 64, 43, 52, 57, 6, 1, 58, 46, 43, 1, 54, 39, 58, 56, 47, 41, 47, 39, 52, 57, 1, 45, 53, 53, 42, 8, 0, 35, 46, 39, 58, 1, 39, 59, 58, 46, 53, 56, 47, 58, 63, 1, 57, 59, 56, 44, 43, 47, 58, 57, 1, 53, 52, 1, 61, 53, 59, 50, 42, 1, 56, 43, 50, 47, 43, 60, 43, 1, 59, 57, 10, 1, 47, 44, 1, 58, 46, 43, 63, 0, 61, 53, 59, 50, 42, 1, 63, 47, 43, 50, 42, 1, 59, 57, 1, 40, 59, 58, 1, 58, 46, 43, 1, 57, 59, 54, 43, 56, 44, 50, 59, 47, 58, 63, 6, 1, 61, 46, 47, 50, 43, 1, 47, 58, 1, 61, 43, 56, 43, 0, 61, 46, 53, 50, 43, 57, 53, 51, 43, 6, 1, 61, 43, 1, 51, 47, 45, 46, 58, 1, 45, 59, 43, 57, 57, 1, 58, 46, 43, 63, 1, 56, 43, 50, 47, 43, 60, 43, 42, 1, 59, 57, 1, 46, 59, 51, 39, 52, 43, 50, 63, 11, 0, 40, 59, 58, 1, 58, 46, 43, 63, 1, 58, 46, 47, 52, 49, 1, 61, 43, 1, 39, 56, 43, 1, 58, 53, 53, 1, 42, 43, 39, 56, 10, 1, 58, 46, 43, 1, 50, 43, 39, 52, 52, 43, 57, 57, 1, 58, 46, 39, 58, 0, 39, 44, 44, 50, 47, 41, 58, 57, 1, 59, 57, 6, 1, 58, 46, 43, 1, 53, 40, 48, 43, 41, 58, 1, 53, 44, 1, 53, 59, 56, 1, 51, 47, 57, 43, 56, 63, 6, 1, 47, 57, 1, 39, 57, 1, 39, 52, 0, 47, 52, 60, 43, 52, 58, 53, 56, 63, 1, 58, 53, 1, 54, 39, 56, 58, 47, 41, 59, 50, 39, 56, 47, 57, 43, 1, 58, 46, 43, 47, 56, 1, 39, 40, 59, 52, 42, 39, 52, 41, 43, 11, 1, 53, 59, 56, 0, 57, 59, 44, 44, 43, 56, 39, 52, 41, 43, 1, 47, 57, 1, 39, 1, 45, 39, 47, 52, 1, 58, 53, 1, 58, 46, 43, 51, 1, 24, 43, 58, 1, 59, 57, 1, 56, 43, 60, 43, 52, 45, 43, 1, 58, 46, 47, 57, 1, 61, 47, 58, 46, 0, 53, 59, 56, 1, 54, 47, 49, 43, 57, 6, 1, 43, 56, 43, 1, 61, 43, 1, 40, 43, 41, 53, 51, 43, 1, 56, 39, 49, 43, 57, 10, 1, 44, 53, 56, 1, 58, 46, 43, 1, 45, 53, 42, 57, 1, 49, 52, 53, 61, 1, 21, 0, 57, 54, 43, 39, 49, 1, 58, 46, 47, 57, 1, 47, 52, 1, 46, 59, 52, 45, 43, 56, 1, 44, 53, 56, 1, 40, 56, 43, 39, 42, 6, 1, 52, 53, 58, 1, 47, 52, 1, 58, 46, 47, 56, 57, 58, 1, 44, 53, 56, 1, 56, 43, 60, 43, 52, 45, 43, 8, 0, 0]\n",
            "[12, 0, 0, 19, 30, 17, 25, 21, 27, 10, 0, 19, 53, 53, 42, 1, 51, 53, 56, 56, 53, 61, 6, 1, 52, 43, 47, 45, 46, 40, 53, 59, 56, 1, 14, 39, 54, 58, 47, 57, 58, 39, 8, 0, 0, 14, 13, 28, 32, 21, 31, 32, 13, 10, 0, 19, 53, 53, 42, 1, 51, 53, 56, 56, 53, 61, 6, 1, 52, 43, 47, 45, 46, 40, 53, 59, 56, 1, 19, 56, 43, 51, 47, 53, 8, 0, 19, 53, 42, 1, 57, 39, 60, 43, 1, 63, 53, 59, 6, 1, 45, 43, 52, 58, 50, 43, 51, 43, 52, 2, 0, 0, 28, 17, 32, 30, 33, 15, 20, 21, 27, 10, 0, 13, 52, 42, 1, 63, 53, 59, 6, 1, 45, 53, 53, 42, 1, 57, 47, 56, 2, 1, 28, 56, 39, 63, 6, 1, 46, 39, 60, 43, 1, 63, 53, 59, 1, 52, 53, 58, 1, 39, 1, 42, 39, 59, 45, 46, 58, 43, 56, 0, 15, 39, 50, 50, 5, 42, 1, 23, 39, 58, 46, 39, 56, 47, 52, 39, 6, 1, 44, 39, 47, 56, 1, 39, 52, 42, 1, 60, 47, 56, 58, 59, 53, 59, 57, 12, 0, 0, 14, 13, 28, 32, 21, 31, 32, 13, 10, 0, 21, 1, 46, 39, 60, 43, 1, 39, 1, 42, 39, 59, 45, 46, 58, 43, 56, 6, 1, 57, 47, 56, 6, 1, 41, 39, 50, 50, 43, 42, 1, 23, 39, 58, 46, 39, 56, 47, 52, 39, 8, 0, 0, 19, 30, 17, 25, 21, 27, 10, 0, 37, 53, 59, 1, 39, 56, 43, 1, 58, 53, 53, 1, 40, 50, 59, 52, 58, 10, 1, 45, 53, 1, 58, 53, 1, 47, 58, 1, 53, 56, 42, 43, 56, 50, 63, 8, 0, 0, 28, 17, 32, 30, 33, 15, 20, 21, 27, 10, 0, 37, 53, 59, 1, 61, 56, 53, 52, 45, 1, 51, 43, 6, 1, 31, 47, 45, 52, 47, 53, 56, 1, 19, 56, 43, 51, 47, 53, 10, 1, 45, 47, 60, 43, 1, 51, 43, 1, 50, 43, 39, 60, 43, 8, 0, 21, 1, 39, 51, 1, 39, 1, 45, 43, 52, 58, 50, 43, 51, 39, 52, 1, 53, 44, 1, 34, 43, 56, 53, 52, 39, 6, 1, 57, 47, 56, 6, 0, 32, 46, 39, 58, 6, 1, 46, 43, 39, 56, 47, 52, 45, 1, 53, 44, 1, 46, 43, 56, 1, 40, 43, 39, 59, 58, 63, 1, 39, 52, 42, 1, 46, 43, 56, 1, 61, 47, 58, 6, 0, 20, 43, 56, 1, 39, 44, 44, 39, 40, 47, 50, 47, 58, 63, 1, 39, 52, 42, 1, 40, 39, 57, 46, 44, 59, 50, 1, 51, 53, 42, 43, 57, 58, 63, 6, 0, 20, 43, 56, 1, 61, 53, 52, 42, 56, 53, 59, 57, 1, 55, 59, 39, 50, 47, 58, 47, 43, 57, 1, 39, 52, 42, 1, 51, 47, 50, 42, 1, 40, 43, 46, 39, 60, 47, 53, 56, 6, 0, 13, 51, 1, 40, 53, 50, 42, 1, 58, 53, 1, 57, 46, 53, 61, 1, 51, 63, 57, 43, 50, 44, 1, 39, 1, 44, 53, 56, 61, 39, 56, 42, 1, 45, 59, 43, 57, 58, 0, 35, 47, 58, 46, 47, 52, 1, 63, 53, 59, 56, 1, 46, 53, 59, 57, 43, 6, 1, 58, 53, 1, 51, 39, 49, 43, 1, 51, 47, 52, 43, 1, 43, 63, 43, 1, 58, 46, 43, 1, 61, 47, 58, 52, 43, 57, 57, 0, 27, 44, 1, 58, 46, 39, 58, 1, 56, 43, 54, 53, 56, 58, 1, 61, 46, 47, 41, 46, 1, 21, 1, 57, 53, 1, 53, 44, 58, 1, 46, 39, 60, 43, 1, 46, 43, 39, 56, 42, 8, 0, 13, 52, 42, 6, 1, 44, 53, 56, 1, 39, 52, 1, 43, 52, 58, 56, 39, 52, 41, 43, 1, 58, 53, 1, 51, 63, 1, 43, 52, 58, 43, 56, 58, 39, 47, 52, 51, 43, 52, 58, 6, 0, 21, 1, 42, 53, 1, 54, 56, 43, 57, 43, 52, 58, 1, 63, 53, 59, 1, 61, 47, 58, 46, 1, 39, 1, 51, 39, 52, 1, 53, 44, 1, 51, 47, 52, 43, 6, 0, 15, 59, 52, 52, 47, 52, 45, 1, 47, 52, 1, 51, 59, 57, 47, 41, 1, 39, 52, 42, 1, 58, 46, 43, 1, 51, 39, 58, 46, 43, 51, 39, 58, 47, 41, 57, 6, 0, 32, 53, 1, 47, 52, 57, 58, 56, 59, 41, 58, 1, 46, 43, 56, 1, 44, 59, 50, 50, 63, 1, 47, 52, 1, 58, 46, 53, 57, 43, 1, 57, 41, 47, 43, 52, 41, 43, 57, 6, 0, 35, 46, 43, 56, 43, 53, 44, 1, 21, 1, 49, 52, 53, 61, 1, 57, 46, 43, 1, 47, 57, 1, 52, 53, 58, 1, 47, 45, 52, 53, 56, 39, 52, 58, 10, 0, 13, 41, 41, 43, 54, 58, 1, 53, 44, 1, 46, 47, 51, 6, 1, 53, 56, 1, 43, 50, 57, 43, 1, 63, 53, 59, 1, 42, 53, 1, 51, 43, 1, 61, 56, 53, 52, 45, 10, 0, 20, 47, 57, 1, 52, 39, 51, 43, 1, 47, 57, 1, 24, 47, 41, 47, 53, 6, 1, 40, 53, 56, 52, 1, 47, 52, 1, 25, 39, 52, 58, 59, 39, 8, 0, 0, 14, 13, 28, 32, 21, 31, 32, 13, 10, 0, 37, 53, 59, 5, 56, 43, 1, 61, 43, 50, 41, 53, 51, 43, 6, 1, 57, 47, 56, 11, 1, 39, 52, 42, 1, 46, 43, 6, 1, 44, 53, 56, 1, 63, 53, 59, 56, 1, 45, 53, 53, 42, 1, 57, 39, 49, 43, 8, 0, 14, 59, 58, 1, 44, 53, 56, 1, 51, 63, 1, 42, 39, 59, 45, 46, 58, 43, 56, 1, 23, 39, 58, 46, 39]\n"
          ]
        }
      ]
    },
    {
      "cell_type": "markdown",
      "source": [
        "## create input tensors"
      ],
      "metadata": {
        "id": "eHy-dBtVQlOB"
      }
    },
    {
      "cell_type": "code",
      "source": [
        "train_set = torch.tensor(train_set, dtype=torch.long)\n",
        "test_set = torch.tensor(test_set, dtype=torch.long)"
      ],
      "metadata": {
        "id": "s1E_ZwZxQk-I"
      },
      "execution_count": 133,
      "outputs": []
    },
    {
      "cell_type": "code",
      "source": [
        "print(train_set)\n",
        "print(test_set)"
      ],
      "metadata": {
        "colab": {
          "base_uri": "https://localhost:8080/"
        },
        "id": "LEzv5HXnRmT5",
        "outputId": "d1ea7735-4408-47d2-c8c1-37393b6a1712"
      },
      "execution_count": 134,
      "outputs": [
        {
          "output_type": "stream",
          "name": "stdout",
          "text": [
            "tensor([18, 47, 56,  ..., 43, 56, 43])\n",
            "tensor([12,  0,  0,  ..., 45,  8,  0])\n"
          ]
        }
      ]
    },
    {
      "cell_type": "code",
      "source": [
        "batch_size = 4\n",
        "block_size = 8"
      ],
      "metadata": {
        "id": "iz_9QbmVRzvx"
      },
      "execution_count": 115,
      "outputs": []
    },
    {
      "cell_type": "code",
      "source": [
        "print(train_set[:block_size+1])"
      ],
      "metadata": {
        "colab": {
          "base_uri": "https://localhost:8080/"
        },
        "id": "amWBblKaR893",
        "outputId": "82b30ebc-2b5b-4267-f39a-59239f0ff781"
      },
      "execution_count": 135,
      "outputs": [
        {
          "output_type": "stream",
          "name": "stdout",
          "text": [
            "tensor([18, 47, 56, 57, 58,  1, 15, 47, 58])\n"
          ]
        }
      ]
    },
    {
      "cell_type": "code",
      "source": [
        "# get x and y\n",
        "x = train_set[:block_size]\n",
        "y = train_set[1:block_size+1]\n",
        "for i in x:\n",
        "  for j in y:\n",
        "    print(f\"When input is: {i} the target is {j}\")\n",
        "    i = j\n",
        "  break"
      ],
      "metadata": {
        "colab": {
          "base_uri": "https://localhost:8080/"
        },
        "id": "ByiD-hs6a7dZ",
        "outputId": "23041469-e7ce-4bd4-c400-9f3e1f0a92cd"
      },
      "execution_count": 136,
      "outputs": [
        {
          "output_type": "stream",
          "name": "stdout",
          "text": [
            "When input is: 18 the target is 47\n",
            "When input is: 47 the target is 56\n",
            "When input is: 56 the target is 57\n",
            "When input is: 57 the target is 58\n",
            "When input is: 58 the target is 1\n",
            "When input is: 1 the target is 15\n",
            "When input is: 15 the target is 47\n",
            "When input is: 47 the target is 58\n"
          ]
        }
      ]
    },
    {
      "cell_type": "code",
      "source": [
        "# Style by Andrej Karpathy\n",
        "x = train_set[:block_size]\n",
        "y = train_set[1:block_size+1]\n",
        "for t in range(block_size):\n",
        "  context = x[:t+1]\n",
        "  target = y[t]\n",
        "  print(f\"when input is {context} the target: {target}\")"
      ],
      "metadata": {
        "id": "kcozCkFRd1_r",
        "outputId": "862b625d-dd0e-4333-cff4-332ac3502fef",
        "colab": {
          "base_uri": "https://localhost:8080/"
        }
      },
      "execution_count": 137,
      "outputs": [
        {
          "output_type": "stream",
          "name": "stdout",
          "text": [
            "when input is tensor([18]) the target: 47\n",
            "when input is tensor([18, 47]) the target: 56\n",
            "when input is tensor([18, 47, 56]) the target: 57\n",
            "when input is tensor([18, 47, 56, 57]) the target: 58\n",
            "when input is tensor([18, 47, 56, 57, 58]) the target: 1\n",
            "when input is tensor([18, 47, 56, 57, 58,  1]) the target: 15\n",
            "when input is tensor([18, 47, 56, 57, 58,  1, 15]) the target: 47\n",
            "when input is tensor([18, 47, 56, 57, 58,  1, 15, 47]) the target: 58\n"
          ]
        }
      ]
    },
    {
      "cell_type": "code",
      "source": [
        "print(x)\n",
        "print(y)"
      ],
      "metadata": {
        "colab": {
          "base_uri": "https://localhost:8080/"
        },
        "id": "Uu3Jly3MaXbS",
        "outputId": "47da1901-c866-48b4-e117-5f15c9a4dd2e"
      },
      "execution_count": 118,
      "outputs": [
        {
          "output_type": "stream",
          "name": "stdout",
          "text": [
            "tensor([18, 47, 56, 57, 58,  1, 15, 47])\n",
            "tensor([47, 56, 57, 58,  1, 15, 47, 58])\n"
          ]
        }
      ]
    },
    {
      "cell_type": "code",
      "source": [
        "torch.manual_seed(1337)\n",
        "batch_size = 4  # Number of independent sequences to be processed in parallel\n",
        "block_size = 8  # Maximum context length for predictions\n",
        "\n",
        "def get_batch(split):\n",
        "  # Point to do batching is to generate small batch of data of inputs x and targets y\n",
        "  data = train_set if split == 'train' else test_set\n",
        "  ix = torch.randint(len(data) - batch_size, (batch_size,))\n",
        "  x = torch.stack([data[i+1:i+block_size+1] for i in ix])\n",
        "  y = torch.stack([data[i+1:i+block_size+1] for i in ix])\n",
        "  return x, y\n",
        "\n",
        "xb, yb = get_batch('train')\n",
        "print('inputs:')\n",
        "print(xb.shape)\n",
        "print(xb)\n",
        "print('targets:')\n",
        "print(yb.shape)\n",
        "print(yb)\n",
        "print()\n",
        "print('*************************************************************')\n",
        "for b in range(batch_size): # Given as batch_dimension\n",
        "  for t in range(block_size): # time dimension\n",
        "    context = xb[b, :t+1]\n",
        "    target = yb[b, t]\n",
        "    print(f\"When input is {context.tolist()} the target: {target}\")\n",
        "print('*************************************************************')"
      ],
      "metadata": {
        "id": "bO4v0hg1etyb",
        "outputId": "e894ce24-80aa-4476-8791-b9918890b05c",
        "colab": {
          "base_uri": "https://localhost:8080/"
        }
      },
      "execution_count": 147,
      "outputs": [
        {
          "output_type": "stream",
          "name": "stdout",
          "text": [
            "inputs:\n",
            "torch.Size([4, 8])\n",
            "tensor([[60, 39, 47, 50,  1, 63, 53, 59],\n",
            "        [43, 39, 60, 43, 52,  1, 44, 53],\n",
            "        [46, 43, 56, 43,  1, 63, 53, 59],\n",
            "        [47, 50, 50,  1, 57, 39, 63,  0]])\n",
            "targets:\n",
            "torch.Size([4, 8])\n",
            "tensor([[60, 39, 47, 50,  1, 63, 53, 59],\n",
            "        [43, 39, 60, 43, 52,  1, 44, 53],\n",
            "        [46, 43, 56, 43,  1, 63, 53, 59],\n",
            "        [47, 50, 50,  1, 57, 39, 63,  0]])\n",
            "\n",
            "*************************************************************\n",
            "When input is [60] the target: 60\n",
            "When input is [60, 39] the target: 39\n",
            "When input is [60, 39, 47] the target: 47\n",
            "When input is [60, 39, 47, 50] the target: 50\n",
            "When input is [60, 39, 47, 50, 1] the target: 1\n",
            "When input is [60, 39, 47, 50, 1, 63] the target: 63\n",
            "When input is [60, 39, 47, 50, 1, 63, 53] the target: 53\n",
            "When input is [60, 39, 47, 50, 1, 63, 53, 59] the target: 59\n",
            "When input is [43] the target: 43\n",
            "When input is [43, 39] the target: 39\n",
            "When input is [43, 39, 60] the target: 60\n",
            "When input is [43, 39, 60, 43] the target: 43\n",
            "When input is [43, 39, 60, 43, 52] the target: 52\n",
            "When input is [43, 39, 60, 43, 52, 1] the target: 1\n",
            "When input is [43, 39, 60, 43, 52, 1, 44] the target: 44\n",
            "When input is [43, 39, 60, 43, 52, 1, 44, 53] the target: 53\n",
            "When input is [46] the target: 46\n",
            "When input is [46, 43] the target: 43\n",
            "When input is [46, 43, 56] the target: 56\n",
            "When input is [46, 43, 56, 43] the target: 43\n",
            "When input is [46, 43, 56, 43, 1] the target: 1\n",
            "When input is [46, 43, 56, 43, 1, 63] the target: 63\n",
            "When input is [46, 43, 56, 43, 1, 63, 53] the target: 53\n",
            "When input is [46, 43, 56, 43, 1, 63, 53, 59] the target: 59\n",
            "When input is [47] the target: 47\n",
            "When input is [47, 50] the target: 50\n",
            "When input is [47, 50, 50] the target: 50\n",
            "When input is [47, 50, 50, 1] the target: 1\n",
            "When input is [47, 50, 50, 1, 57] the target: 57\n",
            "When input is [47, 50, 50, 1, 57, 39] the target: 39\n",
            "When input is [47, 50, 50, 1, 57, 39, 63] the target: 63\n",
            "When input is [47, 50, 50, 1, 57, 39, 63, 0] the target: 0\n",
            "*************************************************************\n"
          ]
        }
      ]
    },
    {
      "cell_type": "markdown",
      "source": [
        "# Build a simple Bigram model"
      ],
      "metadata": {
        "id": "jmfdzX_SNoZ3"
      }
    },
    {
      "cell_type": "code",
      "source": [
        "class NeuralNetBigram(nn.Module):\n",
        "  pass"
      ],
      "metadata": {
        "id": "O_yo5ZEKNcc9"
      },
      "execution_count": 119,
      "outputs": []
    },
    {
      "cell_type": "code",
      "source": [],
      "metadata": {
        "id": "0LmQc4sZOVyd"
      },
      "execution_count": 119,
      "outputs": []
    }
  ]
}