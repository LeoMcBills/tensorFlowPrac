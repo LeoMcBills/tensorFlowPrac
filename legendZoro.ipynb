{
  "nbformat": 4,
  "nbformat_minor": 0,
  "metadata": {
    "colab": {
      "provenance": [],
      "authorship_tag": "ABX9TyM1G4fjBk3V5vK0sCIqLnsS",
      "include_colab_link": true
    },
    "kernelspec": {
      "name": "python3",
      "display_name": "Python 3"
    },
    "language_info": {
      "name": "python"
    }
  },
  "cells": [
    {
      "cell_type": "markdown",
      "metadata": {
        "id": "view-in-github",
        "colab_type": "text"
      },
      "source": [
        "<a href=\"https://colab.research.google.com/github/LeoMcBills/tensorFlowPrac/blob/main/legendZoro.ipynb\" target=\"_parent\"><img src=\"https://colab.research.google.com/assets/colab-badge.svg\" alt=\"Open In Colab\"/></a>"
      ]
    },
    {
      "cell_type": "markdown",
      "source": [
        "# Import necessary pytorch modules"
      ],
      "metadata": {
        "id": "PWuS2tuyN7kj"
      }
    },
    {
      "cell_type": "code",
      "source": [
        "import torch\n",
        "from torch import nn"
      ],
      "metadata": {
        "id": "OcAhA990NuZC"
      },
      "execution_count": null,
      "outputs": []
    },
    {
      "cell_type": "markdown",
      "source": [
        "# Download text-tinyShakespeare"
      ],
      "metadata": {
        "id": "vEESCD-KOBtI"
      }
    },
    {
      "cell_type": "code",
      "execution_count": null,
      "metadata": {
        "colab": {
          "base_uri": "https://localhost:8080/"
        },
        "id": "y1DNFeiy2lGR",
        "outputId": "45352644-f3be-4c72-f4a1-a3644342e820"
      },
      "outputs": [
        {
          "output_type": "stream",
          "name": "stdout",
          "text": [
            "--2024-03-21 12:38:04--  https://raw.githubusercontent.com/karpathy/char-rnn/master/data/tinyshakespeare/input.txt\n",
            "Resolving raw.githubusercontent.com (raw.githubusercontent.com)... 185.199.109.133, 185.199.110.133, 185.199.108.133, ...\n",
            "Connecting to raw.githubusercontent.com (raw.githubusercontent.com)|185.199.109.133|:443... connected.\n",
            "HTTP request sent, awaiting response... 200 OK\n",
            "Length: 1115394 (1.1M) [text/plain]\n",
            "Saving to: ‘input.txt.1’\n",
            "\n",
            "input.txt.1         100%[===================>]   1.06M  --.-KB/s    in 0.05s   \n",
            "\n",
            "2024-03-21 12:38:04 (22.3 MB/s) - ‘input.txt.1’ saved [1115394/1115394]\n",
            "\n"
          ]
        }
      ],
      "source": [
        "!wget https://raw.githubusercontent.com/karpathy/char-rnn/master/data/tinyshakespeare/input.txt"
      ]
    },
    {
      "cell_type": "code",
      "source": [
        "!ls"
      ],
      "metadata": {
        "colab": {
          "base_uri": "https://localhost:8080/"
        },
        "id": "Ahbibel59fcI",
        "outputId": "686d6c73-0e69-462f-ceb6-9f64f11faadd"
      },
      "execution_count": null,
      "outputs": [
        {
          "output_type": "stream",
          "name": "stdout",
          "text": [
            "input.txt  sample_data\n"
          ]
        }
      ]
    },
    {
      "cell_type": "code",
      "source": [
        "!rm input.txt.1"
      ],
      "metadata": {
        "id": "7AmsuAroBO8Z"
      },
      "execution_count": null,
      "outputs": []
    },
    {
      "cell_type": "code",
      "source": [
        "with open('input.txt', 'r', encoding='utf-8') as text:\n",
        "  text = text.read()"
      ],
      "metadata": {
        "id": "ZzwW_oo89gmt"
      },
      "execution_count": null,
      "outputs": []
    },
    {
      "cell_type": "code",
      "source": [
        "print(len(text))\n",
        "print(text[:1000])"
      ],
      "metadata": {
        "colab": {
          "base_uri": "https://localhost:8080/"
        },
        "id": "920mxbLc94E9",
        "outputId": "8fc65551-b61e-458a-86aa-82e01d3af12a"
      },
      "execution_count": null,
      "outputs": [
        {
          "output_type": "stream",
          "name": "stdout",
          "text": [
            "1115394\n",
            "First Citizen:\n",
            "Before we proceed any further, hear me speak.\n",
            "\n",
            "All:\n",
            "Speak, speak.\n",
            "\n",
            "First Citizen:\n",
            "You are all resolved rather to die than to famish?\n",
            "\n",
            "All:\n",
            "Resolved. resolved.\n",
            "\n",
            "First Citizen:\n",
            "First, you know Caius Marcius is chief enemy to the people.\n",
            "\n",
            "All:\n",
            "We know't, we know't.\n",
            "\n",
            "First Citizen:\n",
            "Let us kill him, and we'll have corn at our own price.\n",
            "Is't a verdict?\n",
            "\n",
            "All:\n",
            "No more talking on't; let it be done: away, away!\n",
            "\n",
            "Second Citizen:\n",
            "One word, good citizens.\n",
            "\n",
            "First Citizen:\n",
            "We are accounted poor citizens, the patricians good.\n",
            "What authority surfeits on would relieve us: if they\n",
            "would yield us but the superfluity, while it were\n",
            "wholesome, we might guess they relieved us humanely;\n",
            "but they think we are too dear: the leanness that\n",
            "afflicts us, the object of our misery, is as an\n",
            "inventory to particularise their abundance; our\n",
            "sufferance is a gain to them Let us revenge this with\n",
            "our pikes, ere we become rakes: for the gods know I\n",
            "speak this in hunger for bread, not in thirst for revenge.\n",
            "\n",
            "\n"
          ]
        }
      ]
    },
    {
      "cell_type": "code",
      "source": [
        "chars = sorted(list(set(text)))\n",
        "print(len(chars))\n",
        "print(\"\".join(chars))"
      ],
      "metadata": {
        "colab": {
          "base_uri": "https://localhost:8080/"
        },
        "id": "I-YWnf7ZCa70",
        "outputId": "91c34c34-04d7-4b3a-8cc0-1663de341da4"
      },
      "execution_count": null,
      "outputs": [
        {
          "output_type": "stream",
          "name": "stdout",
          "text": [
            "65\n",
            "\n",
            " !$&',-.3:;?ABCDEFGHIJKLMNOPQRSTUVWXYZabcdefghijklmnopqrstuvwxyz\n"
          ]
        }
      ]
    },
    {
      "cell_type": "code",
      "source": [
        "stoi = { ch:i for i, ch in enumerate(chars) }\n",
        "itos = { i:ch for i, ch in enumerate(chars) }\n",
        "vocab_size = len(chars)"
      ],
      "metadata": {
        "id": "DESALlbD93Qc"
      },
      "execution_count": null,
      "outputs": []
    },
    {
      "cell_type": "code",
      "source": [
        "print(vocab_size)\n",
        "print(stoi)\n",
        "print(itos)"
      ],
      "metadata": {
        "colab": {
          "base_uri": "https://localhost:8080/"
        },
        "id": "nvnY2YRfDJWA",
        "outputId": "29100922-690c-4955-e976-e366b4ef5be2"
      },
      "execution_count": null,
      "outputs": [
        {
          "output_type": "stream",
          "name": "stdout",
          "text": [
            "65\n",
            "{'\\n': 0, ' ': 1, '!': 2, '$': 3, '&': 4, \"'\": 5, ',': 6, '-': 7, '.': 8, '3': 9, ':': 10, ';': 11, '?': 12, 'A': 13, 'B': 14, 'C': 15, 'D': 16, 'E': 17, 'F': 18, 'G': 19, 'H': 20, 'I': 21, 'J': 22, 'K': 23, 'L': 24, 'M': 25, 'N': 26, 'O': 27, 'P': 28, 'Q': 29, 'R': 30, 'S': 31, 'T': 32, 'U': 33, 'V': 34, 'W': 35, 'X': 36, 'Y': 37, 'Z': 38, 'a': 39, 'b': 40, 'c': 41, 'd': 42, 'e': 43, 'f': 44, 'g': 45, 'h': 46, 'i': 47, 'j': 48, 'k': 49, 'l': 50, 'm': 51, 'n': 52, 'o': 53, 'p': 54, 'q': 55, 'r': 56, 's': 57, 't': 58, 'u': 59, 'v': 60, 'w': 61, 'x': 62, 'y': 63, 'z': 64}\n",
            "{0: '\\n', 1: ' ', 2: '!', 3: '$', 4: '&', 5: \"'\", 6: ',', 7: '-', 8: '.', 9: '3', 10: ':', 11: ';', 12: '?', 13: 'A', 14: 'B', 15: 'C', 16: 'D', 17: 'E', 18: 'F', 19: 'G', 20: 'H', 21: 'I', 22: 'J', 23: 'K', 24: 'L', 25: 'M', 26: 'N', 27: 'O', 28: 'P', 29: 'Q', 30: 'R', 31: 'S', 32: 'T', 33: 'U', 34: 'V', 35: 'W', 36: 'X', 37: 'Y', 38: 'Z', 39: 'a', 40: 'b', 41: 'c', 42: 'd', 43: 'e', 44: 'f', 45: 'g', 46: 'h', 47: 'i', 48: 'j', 49: 'k', 50: 'l', 51: 'm', 52: 'n', 53: 'o', 54: 'p', 55: 'q', 56: 'r', 57: 's', 58: 't', 59: 'u', 60: 'v', 61: 'w', 62: 'x', 63: 'y', 64: 'z'}\n"
          ]
        }
      ]
    },
    {
      "cell_type": "code",
      "source": [
        "# method 1\n",
        "def tokenize(word):\n",
        "  newrd = []\n",
        "  for piece in word:\n",
        "    newrd.append(stoi[piece])\n",
        "  return newrd"
      ],
      "metadata": {
        "id": "a2HllXP8CCc9"
      },
      "execution_count": null,
      "outputs": []
    },
    {
      "cell_type": "code",
      "source": [
        "# method 2\n",
        "encode = lambda wrd: [stoi[char] for char in wrd]"
      ],
      "metadata": {
        "id": "vvtEF-KQF3zw"
      },
      "execution_count": null,
      "outputs": []
    },
    {
      "cell_type": "code",
      "source": [
        "encoded = tokenize(\"Leo is the greatest programmer living\")\n",
        "encoded2 = encode(\"Leo is the greatest programmer living\")"
      ],
      "metadata": {
        "id": "jTQ3wSJfElm7"
      },
      "execution_count": null,
      "outputs": []
    },
    {
      "cell_type": "code",
      "source": [
        "print(encoded)\n",
        "print(encoded2)"
      ],
      "metadata": {
        "colab": {
          "base_uri": "https://localhost:8080/"
        },
        "id": "70gFmxhUEuKd",
        "outputId": "bf666b5c-3797-44dc-9615-406737a59214"
      },
      "execution_count": null,
      "outputs": [
        {
          "output_type": "stream",
          "name": "stdout",
          "text": [
            "[24, 43, 53, 1, 47, 57, 1, 58, 46, 43, 1, 45, 56, 43, 39, 58, 43, 57, 58, 1, 54, 56, 53, 45, 56, 39, 51, 51, 43, 56, 1, 50, 47, 60, 47, 52, 45]\n",
            "[24, 43, 53, 1, 47, 57, 1, 58, 46, 43, 1, 45, 56, 43, 39, 58, 43, 57, 58, 1, 54, 56, 53, 45, 56, 39, 51, 51, 43, 56, 1, 50, 47, 60, 47, 52, 45]\n"
          ]
        }
      ]
    },
    {
      "cell_type": "code",
      "source": [
        "# method 1\n",
        "def wordFromToken(tokens):\n",
        "  sentence = \"\"\n",
        "  for token in tokens:\n",
        "    sentence += itos[token]\n",
        "  return sentence"
      ],
      "metadata": {
        "id": "UG-ymzcGE-bu"
      },
      "execution_count": null,
      "outputs": []
    },
    {
      "cell_type": "code",
      "source": [
        "print(wordFromToken(encoded))"
      ],
      "metadata": {
        "colab": {
          "base_uri": "https://localhost:8080/"
        },
        "id": "9QZXfTeJHVXv",
        "outputId": "86ccc87f-ece6-4ccd-9c41-4257b9738e09"
      },
      "execution_count": null,
      "outputs": [
        {
          "output_type": "stream",
          "name": "stdout",
          "text": [
            "Leo is the greatest programmer living\n"
          ]
        }
      ]
    },
    {
      "cell_type": "code",
      "source": [
        "# method 2\n",
        "decode = lambda wrd: [itos[num] for num in wrd]"
      ],
      "metadata": {
        "id": "Dq6xsBy7HcWu"
      },
      "execution_count": null,
      "outputs": []
    },
    {
      "cell_type": "code",
      "source": [
        "print(\"\".join(decode(encoded)))"
      ],
      "metadata": {
        "colab": {
          "base_uri": "https://localhost:8080/"
        },
        "id": "bPOW_9IcIYGr",
        "outputId": "e87f338b-7bf3-4e20-9e6c-dfd82e926be0"
      },
      "execution_count": null,
      "outputs": [
        {
          "output_type": "stream",
          "name": "stdout",
          "text": [
            "Leo is the greatest programmer living\n"
          ]
        }
      ]
    },
    {
      "cell_type": "markdown",
      "source": [
        "# Get the training and test data"
      ],
      "metadata": {
        "id": "2_Pq0DNQImqK"
      }
    },
    {
      "cell_type": "code",
      "source": [
        "train = tokenize(text[:int(len(text)*0.9)])\n",
        "test = tokenize(text[int(len(text)*0.9):])"
      ],
      "metadata": {
        "id": "m9RX_jrGIbos"
      },
      "execution_count": null,
      "outputs": []
    },
    {
      "cell_type": "code",
      "source": [
        "print(train[:1000])\n",
        "print(test[:1000])"
      ],
      "metadata": {
        "colab": {
          "base_uri": "https://localhost:8080/"
        },
        "id": "87uPwgb4La5O",
        "outputId": "ba03553b-e2dd-48cf-fe38-8b55c423a6ec"
      },
      "execution_count": null,
      "outputs": [
        {
          "output_type": "stream",
          "name": "stdout",
          "text": [
            "[18, 47, 56, 57, 58, 1, 15, 47, 58, 47, 64, 43, 52, 10, 0, 14, 43, 44, 53, 56, 43, 1, 61, 43, 1, 54, 56, 53, 41, 43, 43, 42, 1, 39, 52, 63, 1, 44, 59, 56, 58, 46, 43, 56, 6, 1, 46, 43, 39, 56, 1, 51, 43, 1, 57, 54, 43, 39, 49, 8, 0, 0, 13, 50, 50, 10, 0, 31, 54, 43, 39, 49, 6, 1, 57, 54, 43, 39, 49, 8, 0, 0, 18, 47, 56, 57, 58, 1, 15, 47, 58, 47, 64, 43, 52, 10, 0, 37, 53, 59, 1, 39, 56, 43, 1, 39, 50, 50, 1, 56, 43, 57, 53, 50, 60, 43, 42, 1, 56, 39, 58, 46, 43, 56, 1, 58, 53, 1, 42, 47, 43, 1, 58, 46, 39, 52, 1, 58, 53, 1, 44, 39, 51, 47, 57, 46, 12, 0, 0, 13, 50, 50, 10, 0, 30, 43, 57, 53, 50, 60, 43, 42, 8, 1, 56, 43, 57, 53, 50, 60, 43, 42, 8, 0, 0, 18, 47, 56, 57, 58, 1, 15, 47, 58, 47, 64, 43, 52, 10, 0, 18, 47, 56, 57, 58, 6, 1, 63, 53, 59, 1, 49, 52, 53, 61, 1, 15, 39, 47, 59, 57, 1, 25, 39, 56, 41, 47, 59, 57, 1, 47, 57, 1, 41, 46, 47, 43, 44, 1, 43, 52, 43, 51, 63, 1, 58, 53, 1, 58, 46, 43, 1, 54, 43, 53, 54, 50, 43, 8, 0, 0, 13, 50, 50, 10, 0, 35, 43, 1, 49, 52, 53, 61, 5, 58, 6, 1, 61, 43, 1, 49, 52, 53, 61, 5, 58, 8, 0, 0, 18, 47, 56, 57, 58, 1, 15, 47, 58, 47, 64, 43, 52, 10, 0, 24, 43, 58, 1, 59, 57, 1, 49, 47, 50, 50, 1, 46, 47, 51, 6, 1, 39, 52, 42, 1, 61, 43, 5, 50, 50, 1, 46, 39, 60, 43, 1, 41, 53, 56, 52, 1, 39, 58, 1, 53, 59, 56, 1, 53, 61, 52, 1, 54, 56, 47, 41, 43, 8, 0, 21, 57, 5, 58, 1, 39, 1, 60, 43, 56, 42, 47, 41, 58, 12, 0, 0, 13, 50, 50, 10, 0, 26, 53, 1, 51, 53, 56, 43, 1, 58, 39, 50, 49, 47, 52, 45, 1, 53, 52, 5, 58, 11, 1, 50, 43, 58, 1, 47, 58, 1, 40, 43, 1, 42, 53, 52, 43, 10, 1, 39, 61, 39, 63, 6, 1, 39, 61, 39, 63, 2, 0, 0, 31, 43, 41, 53, 52, 42, 1, 15, 47, 58, 47, 64, 43, 52, 10, 0, 27, 52, 43, 1, 61, 53, 56, 42, 6, 1, 45, 53, 53, 42, 1, 41, 47, 58, 47, 64, 43, 52, 57, 8, 0, 0, 18, 47, 56, 57, 58, 1, 15, 47, 58, 47, 64, 43, 52, 10, 0, 35, 43, 1, 39, 56, 43, 1, 39, 41, 41, 53, 59, 52, 58, 43, 42, 1, 54, 53, 53, 56, 1, 41, 47, 58, 47, 64, 43, 52, 57, 6, 1, 58, 46, 43, 1, 54, 39, 58, 56, 47, 41, 47, 39, 52, 57, 1, 45, 53, 53, 42, 8, 0, 35, 46, 39, 58, 1, 39, 59, 58, 46, 53, 56, 47, 58, 63, 1, 57, 59, 56, 44, 43, 47, 58, 57, 1, 53, 52, 1, 61, 53, 59, 50, 42, 1, 56, 43, 50, 47, 43, 60, 43, 1, 59, 57, 10, 1, 47, 44, 1, 58, 46, 43, 63, 0, 61, 53, 59, 50, 42, 1, 63, 47, 43, 50, 42, 1, 59, 57, 1, 40, 59, 58, 1, 58, 46, 43, 1, 57, 59, 54, 43, 56, 44, 50, 59, 47, 58, 63, 6, 1, 61, 46, 47, 50, 43, 1, 47, 58, 1, 61, 43, 56, 43, 0, 61, 46, 53, 50, 43, 57, 53, 51, 43, 6, 1, 61, 43, 1, 51, 47, 45, 46, 58, 1, 45, 59, 43, 57, 57, 1, 58, 46, 43, 63, 1, 56, 43, 50, 47, 43, 60, 43, 42, 1, 59, 57, 1, 46, 59, 51, 39, 52, 43, 50, 63, 11, 0, 40, 59, 58, 1, 58, 46, 43, 63, 1, 58, 46, 47, 52, 49, 1, 61, 43, 1, 39, 56, 43, 1, 58, 53, 53, 1, 42, 43, 39, 56, 10, 1, 58, 46, 43, 1, 50, 43, 39, 52, 52, 43, 57, 57, 1, 58, 46, 39, 58, 0, 39, 44, 44, 50, 47, 41, 58, 57, 1, 59, 57, 6, 1, 58, 46, 43, 1, 53, 40, 48, 43, 41, 58, 1, 53, 44, 1, 53, 59, 56, 1, 51, 47, 57, 43, 56, 63, 6, 1, 47, 57, 1, 39, 57, 1, 39, 52, 0, 47, 52, 60, 43, 52, 58, 53, 56, 63, 1, 58, 53, 1, 54, 39, 56, 58, 47, 41, 59, 50, 39, 56, 47, 57, 43, 1, 58, 46, 43, 47, 56, 1, 39, 40, 59, 52, 42, 39, 52, 41, 43, 11, 1, 53, 59, 56, 0, 57, 59, 44, 44, 43, 56, 39, 52, 41, 43, 1, 47, 57, 1, 39, 1, 45, 39, 47, 52, 1, 58, 53, 1, 58, 46, 43, 51, 1, 24, 43, 58, 1, 59, 57, 1, 56, 43, 60, 43, 52, 45, 43, 1, 58, 46, 47, 57, 1, 61, 47, 58, 46, 0, 53, 59, 56, 1, 54, 47, 49, 43, 57, 6, 1, 43, 56, 43, 1, 61, 43, 1, 40, 43, 41, 53, 51, 43, 1, 56, 39, 49, 43, 57, 10, 1, 44, 53, 56, 1, 58, 46, 43, 1, 45, 53, 42, 57, 1, 49, 52, 53, 61, 1, 21, 0, 57, 54, 43, 39, 49, 1, 58, 46, 47, 57, 1, 47, 52, 1, 46, 59, 52, 45, 43, 56, 1, 44, 53, 56, 1, 40, 56, 43, 39, 42, 6, 1, 52, 53, 58, 1, 47, 52, 1, 58, 46, 47, 56, 57, 58, 1, 44, 53, 56, 1, 56, 43, 60, 43, 52, 45, 43, 8, 0, 0]\n",
            "[12, 0, 0, 19, 30, 17, 25, 21, 27, 10, 0, 19, 53, 53, 42, 1, 51, 53, 56, 56, 53, 61, 6, 1, 52, 43, 47, 45, 46, 40, 53, 59, 56, 1, 14, 39, 54, 58, 47, 57, 58, 39, 8, 0, 0, 14, 13, 28, 32, 21, 31, 32, 13, 10, 0, 19, 53, 53, 42, 1, 51, 53, 56, 56, 53, 61, 6, 1, 52, 43, 47, 45, 46, 40, 53, 59, 56, 1, 19, 56, 43, 51, 47, 53, 8, 0, 19, 53, 42, 1, 57, 39, 60, 43, 1, 63, 53, 59, 6, 1, 45, 43, 52, 58, 50, 43, 51, 43, 52, 2, 0, 0, 28, 17, 32, 30, 33, 15, 20, 21, 27, 10, 0, 13, 52, 42, 1, 63, 53, 59, 6, 1, 45, 53, 53, 42, 1, 57, 47, 56, 2, 1, 28, 56, 39, 63, 6, 1, 46, 39, 60, 43, 1, 63, 53, 59, 1, 52, 53, 58, 1, 39, 1, 42, 39, 59, 45, 46, 58, 43, 56, 0, 15, 39, 50, 50, 5, 42, 1, 23, 39, 58, 46, 39, 56, 47, 52, 39, 6, 1, 44, 39, 47, 56, 1, 39, 52, 42, 1, 60, 47, 56, 58, 59, 53, 59, 57, 12, 0, 0, 14, 13, 28, 32, 21, 31, 32, 13, 10, 0, 21, 1, 46, 39, 60, 43, 1, 39, 1, 42, 39, 59, 45, 46, 58, 43, 56, 6, 1, 57, 47, 56, 6, 1, 41, 39, 50, 50, 43, 42, 1, 23, 39, 58, 46, 39, 56, 47, 52, 39, 8, 0, 0, 19, 30, 17, 25, 21, 27, 10, 0, 37, 53, 59, 1, 39, 56, 43, 1, 58, 53, 53, 1, 40, 50, 59, 52, 58, 10, 1, 45, 53, 1, 58, 53, 1, 47, 58, 1, 53, 56, 42, 43, 56, 50, 63, 8, 0, 0, 28, 17, 32, 30, 33, 15, 20, 21, 27, 10, 0, 37, 53, 59, 1, 61, 56, 53, 52, 45, 1, 51, 43, 6, 1, 31, 47, 45, 52, 47, 53, 56, 1, 19, 56, 43, 51, 47, 53, 10, 1, 45, 47, 60, 43, 1, 51, 43, 1, 50, 43, 39, 60, 43, 8, 0, 21, 1, 39, 51, 1, 39, 1, 45, 43, 52, 58, 50, 43, 51, 39, 52, 1, 53, 44, 1, 34, 43, 56, 53, 52, 39, 6, 1, 57, 47, 56, 6, 0, 32, 46, 39, 58, 6, 1, 46, 43, 39, 56, 47, 52, 45, 1, 53, 44, 1, 46, 43, 56, 1, 40, 43, 39, 59, 58, 63, 1, 39, 52, 42, 1, 46, 43, 56, 1, 61, 47, 58, 6, 0, 20, 43, 56, 1, 39, 44, 44, 39, 40, 47, 50, 47, 58, 63, 1, 39, 52, 42, 1, 40, 39, 57, 46, 44, 59, 50, 1, 51, 53, 42, 43, 57, 58, 63, 6, 0, 20, 43, 56, 1, 61, 53, 52, 42, 56, 53, 59, 57, 1, 55, 59, 39, 50, 47, 58, 47, 43, 57, 1, 39, 52, 42, 1, 51, 47, 50, 42, 1, 40, 43, 46, 39, 60, 47, 53, 56, 6, 0, 13, 51, 1, 40, 53, 50, 42, 1, 58, 53, 1, 57, 46, 53, 61, 1, 51, 63, 57, 43, 50, 44, 1, 39, 1, 44, 53, 56, 61, 39, 56, 42, 1, 45, 59, 43, 57, 58, 0, 35, 47, 58, 46, 47, 52, 1, 63, 53, 59, 56, 1, 46, 53, 59, 57, 43, 6, 1, 58, 53, 1, 51, 39, 49, 43, 1, 51, 47, 52, 43, 1, 43, 63, 43, 1, 58, 46, 43, 1, 61, 47, 58, 52, 43, 57, 57, 0, 27, 44, 1, 58, 46, 39, 58, 1, 56, 43, 54, 53, 56, 58, 1, 61, 46, 47, 41, 46, 1, 21, 1, 57, 53, 1, 53, 44, 58, 1, 46, 39, 60, 43, 1, 46, 43, 39, 56, 42, 8, 0, 13, 52, 42, 6, 1, 44, 53, 56, 1, 39, 52, 1, 43, 52, 58, 56, 39, 52, 41, 43, 1, 58, 53, 1, 51, 63, 1, 43, 52, 58, 43, 56, 58, 39, 47, 52, 51, 43, 52, 58, 6, 0, 21, 1, 42, 53, 1, 54, 56, 43, 57, 43, 52, 58, 1, 63, 53, 59, 1, 61, 47, 58, 46, 1, 39, 1, 51, 39, 52, 1, 53, 44, 1, 51, 47, 52, 43, 6, 0, 15, 59, 52, 52, 47, 52, 45, 1, 47, 52, 1, 51, 59, 57, 47, 41, 1, 39, 52, 42, 1, 58, 46, 43, 1, 51, 39, 58, 46, 43, 51, 39, 58, 47, 41, 57, 6, 0, 32, 53, 1, 47, 52, 57, 58, 56, 59, 41, 58, 1, 46, 43, 56, 1, 44, 59, 50, 50, 63, 1, 47, 52, 1, 58, 46, 53, 57, 43, 1, 57, 41, 47, 43, 52, 41, 43, 57, 6, 0, 35, 46, 43, 56, 43, 53, 44, 1, 21, 1, 49, 52, 53, 61, 1, 57, 46, 43, 1, 47, 57, 1, 52, 53, 58, 1, 47, 45, 52, 53, 56, 39, 52, 58, 10, 0, 13, 41, 41, 43, 54, 58, 1, 53, 44, 1, 46, 47, 51, 6, 1, 53, 56, 1, 43, 50, 57, 43, 1, 63, 53, 59, 1, 42, 53, 1, 51, 43, 1, 61, 56, 53, 52, 45, 10, 0, 20, 47, 57, 1, 52, 39, 51, 43, 1, 47, 57, 1, 24, 47, 41, 47, 53, 6, 1, 40, 53, 56, 52, 1, 47, 52, 1, 25, 39, 52, 58, 59, 39, 8, 0, 0, 14, 13, 28, 32, 21, 31, 32, 13, 10, 0, 37, 53, 59, 5, 56, 43, 1, 61, 43, 50, 41, 53, 51, 43, 6, 1, 57, 47, 56, 11, 1, 39, 52, 42, 1, 46, 43, 6, 1, 44, 53, 56, 1, 63, 53, 59, 56, 1, 45, 53, 53, 42, 1, 57, 39, 49, 43, 8, 0, 14, 59, 58, 1, 44, 53, 56, 1, 51, 63, 1, 42, 39, 59, 45, 46, 58, 43, 56, 1, 23, 39, 58, 46, 39]\n"
          ]
        }
      ]
    },
    {
      "cell_type": "markdown",
      "source": [
        "## create input tensors"
      ],
      "metadata": {
        "id": "eHy-dBtVQlOB"
      }
    },
    {
      "cell_type": "code",
      "source": [
        "train = torch.tensor(train, dtype=torch.long)\n",
        "test = torch.tensor(test, dtype=torch.long)"
      ],
      "metadata": {
        "colab": {
          "base_uri": "https://localhost:8080/"
        },
        "id": "s1E_ZwZxQk-I",
        "outputId": "b0e8581e-154b-4b71-bb4d-f6ed36e23922"
      },
      "execution_count": null,
      "outputs": [
        {
          "output_type": "stream",
          "name": "stderr",
          "text": [
            "<ipython-input-83-f51e0764ed65>:1: UserWarning: To copy construct from a tensor, it is recommended to use sourceTensor.clone().detach() or sourceTensor.clone().detach().requires_grad_(True), rather than torch.tensor(sourceTensor).\n",
            "  train = torch.tensor(train, dtype=torch.long)\n",
            "<ipython-input-83-f51e0764ed65>:2: UserWarning: To copy construct from a tensor, it is recommended to use sourceTensor.clone().detach() or sourceTensor.clone().detach().requires_grad_(True), rather than torch.tensor(sourceTensor).\n",
            "  test = torch.tensor(test, dtype=torch.long)\n"
          ]
        }
      ]
    },
    {
      "cell_type": "code",
      "source": [
        "print(train)\n",
        "print(test)"
      ],
      "metadata": {
        "colab": {
          "base_uri": "https://localhost:8080/"
        },
        "id": "LEzv5HXnRmT5",
        "outputId": "fba3e81a-d590-41e6-b868-b2d689562513"
      },
      "execution_count": null,
      "outputs": [
        {
          "output_type": "stream",
          "name": "stdout",
          "text": [
            "tensor([18, 47, 56,  ..., 43, 56, 43])\n",
            "tensor([12,  0,  0,  ..., 45,  8,  0])\n"
          ]
        }
      ]
    },
    {
      "cell_type": "code",
      "source": [
        "batch_size = 8\n",
        "block_size = 4"
      ],
      "metadata": {
        "id": "iz_9QbmVRzvx"
      },
      "execution_count": null,
      "outputs": []
    },
    {
      "cell_type": "code",
      "source": [
        "print(train[:batch_size+1])"
      ],
      "metadata": {
        "colab": {
          "base_uri": "https://localhost:8080/"
        },
        "id": "amWBblKaR893",
        "outputId": "b2656bf3-5cce-4f36-dbc5-ea40e2fe9dbf"
      },
      "execution_count": null,
      "outputs": [
        {
          "output_type": "stream",
          "name": "stdout",
          "text": [
            "tensor([18, 47, 56, 57, 58,  1, 15, 47, 58])\n"
          ]
        }
      ]
    },
    {
      "cell_type": "markdown",
      "source": [
        "# Build a simple Bigram model"
      ],
      "metadata": {
        "id": "jmfdzX_SNoZ3"
      }
    },
    {
      "cell_type": "code",
      "source": [
        "class NeuralNet(nn.Module):\n",
        "  pass"
      ],
      "metadata": {
        "id": "O_yo5ZEKNcc9"
      },
      "execution_count": null,
      "outputs": []
    },
    {
      "cell_type": "code",
      "source": [],
      "metadata": {
        "id": "0LmQc4sZOVyd"
      },
      "execution_count": null,
      "outputs": []
    }
  ]
}